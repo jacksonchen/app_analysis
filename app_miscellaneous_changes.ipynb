{
 "metadata": {
  "name": "",
  "signature": "sha256:5ccb30e7dfca229757c996c6b1eb65b15c6d77e205ae565e395c85ac1e60da64"
 },
 "nbformat": 3,
 "nbformat_minor": 0,
 "worksheets": [
  {
   "cells": [
    {
     "cell_type": "code",
     "collapsed": false,
     "input": [
      "import pandas as pd\n",
      "import matplotlib\n",
      "import re\n",
      "from pylab import *\n",
      "import statsmodels.formula.api as sm\n",
      "from IPython.display import HTML"
     ],
     "language": "python",
     "metadata": {},
     "outputs": [],
     "prompt_number": 1
    },
    {
     "cell_type": "code",
     "collapsed": false,
     "input": [
      "app_dump = pd.read_csv('/Users/Jackson/dev/science/health-apps/10-health-apps-additional_info.csv')\n",
      "app_dump.sort(columns=['package', 'version_code'], inplace=True)\n",
      "app_dump.set_index(['package', 'version_code'], inplace=True)\n",
      "app_dump\n",
      "\n",
      "app_privacy_dump = pd.read_csv('/Users/Jackson/dev/science/health-apps/privacy.csv')\n",
      "app_privacy_dump.set_index(['package'], inplace=True)\n",
      "f = open('privacy.html', 'wb')              \n",
      "f.write(app_privacy_dump.to_html())\n",
      "f.close()\n",
      "app_privacy_dump"
     ],
     "language": "python",
     "metadata": {},
     "outputs": [
      {
       "html": [
        "<div style=\"max-height:1000px;max-width:1500px;overflow:auto;\">\n",
        "<table border=\"1\" class=\"dataframe\">\n",
        "  <thead>\n",
        "    <tr style=\"text-align: right;\">\n",
        "      <th></th>\n",
        "      <th> privacy</th>\n",
        "    </tr>\n",
        "    <tr>\n",
        "      <th>package</th>\n",
        "      <th></th>\n",
        "    </tr>\n",
        "  </thead>\n",
        "  <tbody>\n",
        "    <tr>\n",
        "      <th>com.endomondo.android</th>\n",
        "      <td> 1</td>\n",
        "    </tr>\n",
        "    <tr>\n",
        "      <th>com.fatsecret.android</th>\n",
        "      <td> 0</td>\n",
        "    </tr>\n",
        "    <tr>\n",
        "      <th>com.google.android.maps.mytracks</th>\n",
        "      <td> 1</td>\n",
        "    </tr>\n",
        "    <tr>\n",
        "      <th>com.mufumbo.android.recipe.search</th>\n",
        "      <td> 1</td>\n",
        "    </tr>\n",
        "    <tr>\n",
        "      <th>com.myfitnesspal.android</th>\n",
        "      <td> 0</td>\n",
        "    </tr>\n",
        "    <tr>\n",
        "      <th>com.nike.plusgps</th>\n",
        "      <td> 1</td>\n",
        "    </tr>\n",
        "    <tr>\n",
        "      <th>com.popularapp.periodcalendar</th>\n",
        "      <td> 0</td>\n",
        "    </tr>\n",
        "    <tr>\n",
        "      <th>com.skimble.workouts</th>\n",
        "      <td> 1</td>\n",
        "    </tr>\n",
        "    <tr>\n",
        "      <th>com.tinymission.dailyabworkoutfree1</th>\n",
        "      <td> 1</td>\n",
        "    </tr>\n",
        "    <tr>\n",
        "      <th>com.wsl.noom</th>\n",
        "      <td> 1</td>\n",
        "    </tr>\n",
        "  </tbody>\n",
        "</table>\n",
        "</div>"
       ],
       "metadata": {},
       "output_type": "pyout",
       "prompt_number": 80,
       "text": [
        "                                      privacy\n",
        "package                                      \n",
        "com.endomondo.android                       1\n",
        "com.fatsecret.android                       0\n",
        "com.google.android.maps.mytracks            1\n",
        "com.mufumbo.android.recipe.search           1\n",
        "com.myfitnesspal.android                    0\n",
        "com.nike.plusgps                            1\n",
        "com.popularapp.periodcalendar               0\n",
        "com.skimble.workouts                        1\n",
        "com.tinymission.dailyabworkoutfree1         1\n",
        "com.wsl.noom                                1"
       ]
      }
     ],
     "prompt_number": 80
    },
    {
     "cell_type": "code",
     "collapsed": false,
     "input": [
      "# Number of apps with a privacy policy\n",
      "\n",
      "counter = 0\n",
      "for package in app_privacy_dump.index:\n",
      "    if app_privacy_dump.loc[package][0] == 1:\n",
      "       counter += 1\n",
      "print counter"
     ],
     "language": "python",
     "metadata": {},
     "outputs": [
      {
       "output_type": "stream",
       "stream": "stdout",
       "text": [
        "7\n"
       ]
      }
     ],
     "prompt_number": 19
    },
    {
     "cell_type": "code",
     "collapsed": false,
     "input": [
      "# How privacy policy correlates with app downloads\n",
      "\n",
      "privacy_downloads = pd.DataFrame(columns = ['package', 'privacy', 'downloads'])\n",
      "privacy_downloads.set_index(['package'], inplace=True)\n",
      "for gp in app_dump.index.get_level_values(app_dump.index.names[0]).unique():\n",
      "    before = -1\n",
      "    for vc in app_dump.iloc[app_dump.index.get_level_values(app_dump.index.names[0]) == gp].index.get_level_values(app_dump.index.names[1]).unique():\n",
      "        if before == -1:\n",
      "            before = app_dump.loc[(gp, vc), \"download\"]\n",
      "        else:\n",
      "            avg = (before + app_dump.loc[(gp, vc), \"download\"])/2\n",
      "            privacy_downloads.loc[gp] = [app_privacy_dump.loc[gp][0], avg]\n",
      "privacy_yes = privacy_downloads[privacy_downloads.privacy == 1]\n",
      "privacy_no = privacy_downloads[privacy_downloads.privacy == 0]\n",
      "\n",
      "avg_yes = sum(privacy_yes['downloads'].tolist())/len(privacy_yes['downloads'].tolist())\n",
      "avg_no = sum(privacy_no['downloads'].tolist())/len(privacy_no['downloads'].tolist())\n",
      "\n",
      "#df2 = pd.DataFrame()\n",
      "fig = plt.figure()\n",
      "ax = plt.subplot(111)\n",
      "ax.bar([0, 1], [avg_no, avg_yes])\n",
      "xlabel(\"privacy\")\n",
      "ylabel(\"downloads (in 10 millions)\")\n",
      "xticks((0, 1))\n"
     ],
     "language": "python",
     "metadata": {},
     "outputs": [
      {
       "metadata": {},
       "output_type": "pyout",
       "prompt_number": 77,
       "text": [
        "([<matplotlib.axis.XTick at 0x10ad30a10>,\n",
        "  <matplotlib.axis.XTick at 0x10ad2fd50>],\n",
        " <a list of 2 Text xticklabel objects>)"
       ]
      },
      {
       "metadata": {},
       "output_type": "display_data",
       "png": "[encoded data removed]",
       "text": [
        "<matplotlib.figure.Figure at 0x10ac2dd90>"
       ]
      }
     ],
     "prompt_number": 77
    },
    {
     "cell_type": "code",
     "collapsed": false,
     "input": [
      "# How privacy policy correlates with app rating\n",
      "\n",
      "privacy_ratings = pd.DataFrame(columns = ['package', 'privacy', 'ratings'])\n",
      "privacy_ratings.set_index(['package'], inplace=True)\n",
      "for gp in app_dump.index.get_level_values(app_dump.index.names[0]).unique():\n",
      "    before = -1\n",
      "    for vc in app_dump.iloc[app_dump.index.get_level_values(app_dump.index.names[0]) == gp].index.get_level_values(app_dump.index.names[1]).unique():\n",
      "        if before == -1:\n",
      "            before = app_dump.loc[(gp, vc), \"rating\"]\n",
      "        else:\n",
      "            avg = (before + app_dump.loc[(gp, vc), \"rating\"])/2\n",
      "            privacy_ratings.loc[gp] = [app_privacy_dump.loc[gp][0], avg]\n",
      "privacy_yes = privacy_ratings[privacy_ratings.privacy == 1]\n",
      "privacy_no = privacy_ratings[privacy_ratings.privacy == 0]\n",
      "\n",
      "avg_yes = sum(privacy_yes['ratings'].tolist())/len(privacy_yes['ratings'].tolist())\n",
      "avg_no = sum(privacy_no['ratings'].tolist())/len(privacy_no['ratings'].tolist())\n",
      "\n",
      "#df2 = pd.DataFrame()\n",
      "fig = plt.figure()\n",
      "ax = plt.subplot(111)\n",
      "ax.bar([0, 1], [avg_no, avg_yes])\n",
      "xlabel(\"privacy\")\n",
      "ylabel(\"rating\")\n",
      "xticks((0, 1))"
     ],
     "language": "python",
     "metadata": {},
     "outputs": [
      {
       "metadata": {},
       "output_type": "pyout",
       "prompt_number": 79,
       "text": [
        "([<matplotlib.axis.XTick at 0x10acecd50>,\n",
        "  <matplotlib.axis.XTick at 0x10acf79d0>],\n",
        " <a list of 2 Text xticklabel objects>)"
       ]
      },
      {
       "metadata": {},
       "output_type": "display_data",
       "png": "[encoded data removed]",
       "text": [
        "<matplotlib.figure.Figure at 0x10ac58c90>"
       ]
      }
     ],
     "prompt_number": 79
    },
    {
     "cell_type": "code",
     "collapsed": false,
     "input": [],
     "language": "python",
     "metadata": {},
     "outputs": []
    }
   ],
   "metadata": {}
  }
 ]
}