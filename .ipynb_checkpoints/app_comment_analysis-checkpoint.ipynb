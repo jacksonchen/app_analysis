{
 "metadata": {
  "name": "",
  "signature": "sha256:cba435abe3286d5efb7b8face41a56f7c7f683a0d05f3605331df333a3e84866"
 },
 "nbformat": 3,
 "nbformat_minor": 0,
 "worksheets": [
  {
   "cells": [
    {
     "cell_type": "code",
     "collapsed": false,
     "input": [
      "import pandas as pd\n",
      "import matplotlib\n",
      "import re\n",
      "from pylab import *\n",
      "import statsmodels.formula.api as sm\n",
      "from IPython.display import HTML\n",
      "import nltk\n",
      "import glob"
     ],
     "language": "python",
     "metadata": {},
     "outputs": [],
     "prompt_number": 24
    },
    {
     "cell_type": "code",
     "collapsed": false,
     "input": [
      "app_comments = pd.DataFrame(columns=['date_published', 'downloads', 'package', 'reviews', 'version_code', 'version_name'])\n",
      "\n",
      "path = \"/Users/Jackson/dev/science/health-apps/comments/*.json\"\n",
      "for fname in glob.glob(path):\n",
      "    app_comments = pd.concat([app_comments, pd.read_json(fname)], ignore_index=True)\n",
      "app_comments\n",
      "\n",
      "# cmt = comment\n",
      "# st = stars\n",
      "#app_comments.loc[7,\"reviews\"]['st']\n"
     ],
     "language": "python",
     "metadata": {},
     "outputs": [
      {
       "metadata": {},
       "output_type": "pyout",
       "prompt_number": 60,
       "text": [
        "u'5'"
       ]
      }
     ],
     "prompt_number": 60
    },
    {
     "cell_type": "code",
     "collapsed": false,
     "input": [
      "#for i in app_comments.index.get_level_values:\n",
      "#    print i\n",
      "#print app_comments.index.get_level_values\n",
      "# Creates array where the nth element indicates the number of comments that have n+1 stars\n",
      "stars_array = [0]*5\n",
      "\n",
      "for index, row in app_comments.iterrows():\n",
      "    if row[3]['st'] is not None:\n",
      "        stars_array[int(row[3]['st'])-1] += 1\n",
      "\n",
      "stars_df = pd.DataFrame(columns = ['stars', 'number of comments'])\n",
      "counter = 1\n",
      "for i in stars:\n",
      "    \n",
      "    counter += 1"
     ],
     "language": "python",
     "metadata": {},
     "outputs": [
      {
       "ename": "TypeError",
       "evalue": "index() takes at least 1 argument (0 given)",
       "output_type": "pyerr",
       "traceback": [
        "\u001b[0;31m---------------------------------------------------------------------------\u001b[0m\n\u001b[0;31mTypeError\u001b[0m                                 Traceback (most recent call last)",
        "\u001b[0;32m<ipython-input-78-d8446173f93f>\u001b[0m in \u001b[0;36m<module>\u001b[0;34m()\u001b[0m\n\u001b[1;32m      9\u001b[0m         \u001b[0mstars\u001b[0m\u001b[0;34m[\u001b[0m\u001b[0mint\u001b[0m\u001b[0;34m(\u001b[0m\u001b[0mrow\u001b[0m\u001b[0;34m[\u001b[0m\u001b[0;36m3\u001b[0m\u001b[0;34m]\u001b[0m\u001b[0;34m[\u001b[0m\u001b[0;34m'st'\u001b[0m\u001b[0;34m]\u001b[0m\u001b[0;34m)\u001b[0m\u001b[0;34m-\u001b[0m\u001b[0;36m1\u001b[0m\u001b[0;34m]\u001b[0m \u001b[0;34m+=\u001b[0m \u001b[0;36m1\u001b[0m\u001b[0;34m\u001b[0m\u001b[0m\n\u001b[1;32m     10\u001b[0m \u001b[0;34m\u001b[0m\u001b[0m\n\u001b[0;32m---> 11\u001b[0;31m \u001b[0;32mfor\u001b[0m \u001b[0mi\u001b[0m \u001b[0;32min\u001b[0m \u001b[0mstars\u001b[0m\u001b[0;34m.\u001b[0m\u001b[0mindex\u001b[0m\u001b[0;34m(\u001b[0m\u001b[0;34m)\u001b[0m\u001b[0;34m:\u001b[0m\u001b[0;34m\u001b[0m\u001b[0m\n\u001b[0m\u001b[1;32m     12\u001b[0m     \u001b[0;32mprint\u001b[0m \u001b[0mi\u001b[0m\u001b[0;34m\u001b[0m\u001b[0m\n",
        "\u001b[0;31mTypeError\u001b[0m: index() takes at least 1 argument (0 given)"
       ]
      }
     ],
     "prompt_number": 78
    },
    {
     "cell_type": "code",
     "collapsed": false,
     "input": [],
     "language": "python",
     "metadata": {},
     "outputs": []
    },
    {
     "cell_type": "code",
     "collapsed": false,
     "input": [],
     "language": "python",
     "metadata": {},
     "outputs": []
    }
   ],
   "metadata": {}
  }
 ]
}