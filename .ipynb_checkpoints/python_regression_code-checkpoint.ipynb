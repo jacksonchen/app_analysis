{
 "metadata": {
  "name": "",
  "signature": "sha256:8084d9f242126915b6cf12f66264d2c4c07063043985f1f1f7cf0629fc22b539"
 },
 "nbformat": 3,
 "nbformat_minor": 0,
 "worksheets": [
  {
   "cells": [
    {
     "cell_type": "code",
     "collapsed": false,
     "input": [
      "import pandas as pd\n",
      "import matplotlib\n",
      "import re\n",
      "from pylab import *\n",
      "from IPython.display import HTML\n",
      "import numpy as np\n",
      "from sklearn import linear_model\n",
      "# from sklearn.linear_model import LinearRegression\n",
      "# from sklearn.linear_model import Ridge\n",
      "from numpy import genfromtxt"
     ],
     "language": "python",
     "metadata": {},
     "outputs": [],
     "prompt_number": 1
    },
    {
     "cell_type": "code",
     "collapsed": false,
     "input": [
      "x = pd.read_csv('/Users/Jackson/dev/science/health-apps/regression_matrices/words_comments_with_heading_no_index.csv', index_col=False)\n",
      "y = pd.read_csv('/Users/Jackson/dev/science/health-apps/regression_matrices/comments_ratings_with_heading_no_index.csv')"
     ],
     "language": "python",
     "metadata": {},
     "outputs": [],
     "prompt_number": 2
    },
    {
     "cell_type": "code",
     "collapsed": false,
     "input": [
      "clf = linear_model.Ridge(alpha = .2)\n",
      "clf.fit(x,y)\n",
      "clf.intercept_ \n",
      "#clf.coef_"
     ],
     "language": "python",
     "metadata": {},
     "outputs": [
      {
       "metadata": {},
       "output_type": "pyout",
       "prompt_number": 3,
       "text": [
        "array([ 4.66911176])"
       ]
      }
     ],
     "prompt_number": 3
    },
    {
     "cell_type": "code",
     "collapsed": false,
     "input": [
      "from sklearn.linear_model import MultiTaskElasticNetCV \n",
      "enet = MultiTaskElasticNetCV(l1_ratio=0.2)\n",
      "\n",
      "y_pred_enet = enet.fit(x, y)"
     ],
     "language": "python",
     "metadata": {},
     "outputs": [],
     "prompt_number": 4
    },
    {
     "cell_type": "code",
     "collapsed": false,
     "input": [
      "#y_pred_enet.coef_[0]\n",
      "y_pred_enet.alpha_"
     ],
     "language": "python",
     "metadata": {},
     "outputs": [
      {
       "metadata": {},
       "output_type": "pyout",
       "prompt_number": 5,
       "text": [
        "0.067681156515849966"
       ]
      }
     ],
     "prompt_number": 5
    },
    {
     "cell_type": "code",
     "collapsed": false,
     "input": [
      "numpy.set_printoptions(threshold='nan')\n",
      "\n",
      "combined = pd.DataFrame(columns = ['coeff'])\n",
      "counter = 0\n",
      "for i in y_pred_enet.coef_[0]:\n",
      "    combined.loc[x.columns.values[counter]] = i\n",
      "    counter += 1"
     ],
     "language": "python",
     "metadata": {},
     "outputs": [],
     "prompt_number": 6
    },
    {
     "cell_type": "code",
     "collapsed": false,
     "input": [
      "pd.set_option('display.max_rows', 2000)\n",
      "combined.sort(['coeff'], ascending=False, inplace=True)\n",
      "combined"
     ],
     "language": "python",
     "metadata": {},
     "outputs": [],
     "prompt_number": 13
    }
   ],
   "metadata": {}
  }
 ]
}