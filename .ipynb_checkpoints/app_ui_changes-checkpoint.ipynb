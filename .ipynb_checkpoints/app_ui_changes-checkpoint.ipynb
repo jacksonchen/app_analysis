{
 "metadata": {
  "name": "",
  "signature": "sha256:03be49455af450cd95b9f080a91a959daa9c2acecb20d668c947302d01f597ad"
 },
 "nbformat": 3,
 "nbformat_minor": 0,
 "worksheets": [
  {
   "cells": [
    {
     "cell_type": "code",
     "collapsed": false,
     "input": [
      "import pandas as pd\n",
      "import matplotlib\n",
      "import re\n",
      "from pylab import *\n",
      "import statsmodels.formula.api as sm\n",
      "from IPython.display import HTML"
     ],
     "language": "python",
     "metadata": {},
     "outputs": [],
     "prompt_number": 2
    },
    {
     "cell_type": "code",
     "collapsed": false,
     "input": [
      "app_dump = pd.read_csv('/Users/Jackson/dev/science/health-apps/10-health-apps-additional_info.csv')\n",
      "app_dump.rename(columns={'version_code':'verc'}, inplace=True)\n",
      "app_dump.sort(columns=['package', 'verc'], inplace=True)\n",
      "app_dump.set_index(['package','verc'], inplace=True)\n",
      "app_dump\n",
      "\n",
      "app_layouts_dump = pd.read_csv('/Users/Jackson/dev/science/health-apps/count_layout_files.csv')\n",
      "app_layouts_dump.rename(columns={'version_code':'verc'}, inplace=True)\n",
      "app_layouts_dump.sort(columns=['package', 'verc'], inplace=True)\n",
      "app_layouts_dump.set_index(['package','verc'], inplace=True)\n",
      "app_layouts_dump\n",
      "\n",
      "app_default_layouts_dump = pd.read_csv('/Users/Jackson/dev/science/health-apps/default_layouts.csv')\n",
      "app_default_layouts_dump.columns = ['package', 'verc', 'num_default_layouts']\n",
      "app_default_layouts_dump.sort(columns=['package', 'verc'], inplace=True)\n",
      "app_default_layouts_dump.set_index(['package','verc'], inplace=True)\n",
      "app_default_layouts_dump\n",
      "\n",
      "app_specific_layouts_dump = pd.read_csv('/Users/Jackson/dev/science/health-apps/specific_layouts.csv')\n",
      "app_specific_layouts_dump.columns = ['package', 'verc', 'num_specific_layouts']\n",
      "app_specific_layouts_dump.sort(columns=['package', 'verc'], inplace=True)\n",
      "app_specific_layouts_dump.set_index(['package','verc'], inplace=True)\n",
      "app_specific_layouts_dump\n",
      "\n",
      "f = open('layouts_stats.html', 'wb')\n",
      "f.write(app_layouts_dump.to_html())\n",
      "f.write(app_default_layouts_dump.to_html())\n",
      "f.write(app_specific_layouts_dump.to_html())\n",
      "f.close()"
     ],
     "language": "python",
     "metadata": {},
     "outputs": [],
     "prompt_number": 5
    },
    {
     "cell_type": "code",
     "collapsed": false,
     "input": [],
     "language": "python",
     "metadata": {},
     "outputs": []
    }
   ],
   "metadata": {}
  }
 ]
}