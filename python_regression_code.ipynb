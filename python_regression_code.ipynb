{
 "metadata": {
  "name": "",
  "signature": "sha256:1405917c43cf60d450958659f15ce3fbadcc16cf2677806756c1eded9322ad1c"
 },
 "nbformat": 3,
 "nbformat_minor": 0,
 "worksheets": [
  {
   "cells": [
    {
     "cell_type": "code",
     "collapsed": false,
     "input": [
      "import pandas as pd\n",
      "import matplotlib\n",
      "import re\n",
      "import glob\n",
      "from pylab import *\n",
      "import numpy as np\n",
      "from sklearn import linear_model\n",
      "from ast import literal_eval\n",
      "from sklearn.linear_model import MultiTaskElasticNetCV\n",
      "from sklearn.linear_model import RidgeCV\n",
      "import sys\n",
      "from datetime import datetime"
     ],
     "language": "python",
     "metadata": {},
     "outputs": [],
     "prompt_number": 2
    },
    {
     "cell_type": "code",
     "collapsed": false,
     "input": [
      "def load_data(x_path, y_path, words_comments_path, app_comments_path):\n",
      "  x = pd.read_csv(x_path, index_col = False)\n",
      "  x.set_index(['comments'], inplace = True)\n",
      "  y = pd.read_csv(y_path)\n",
      "  y.set_index(['comments'], inplace = True)\n",
      "  words_comments = pd.read_csv(words_comments_path)\n",
      "  words_comments.words = words_comments.words.apply(literal_eval)\n",
      "  words_comments.set_index(['comments'], inplace = True)\n",
      "\n",
      "  app_comments = pd.DataFrame(columns = ['date_published', 'downloads', 'package', 'reviews', 'version_code', 'version_name'])\n",
      "  for fname in glob.glob(app_comments_path):\n",
      "    app_comments = pd.concat([app_comments, pd.read_json(fname)], ignore_index=True)\n",
      "\n",
      "  return x, y, words_comments, app_comments"
     ],
     "language": "python",
     "metadata": {},
     "outputs": [],
     "prompt_number": 3
    },
    {
     "cell_type": "code",
     "collapsed": false,
     "input": [
      "def regression(x, y):\n",
      "  #enet = MultiTaskElasticNetCV(l1_ratio=0.2)\n",
      "  enet = RidgeCV()\n",
      "  y_pred_enet = enet.fit(x, y)\n",
      "\n",
      "  word_vals = pd.DataFrame(columns = ['coeff'])\n",
      "  counter = 0\n",
      "  for i in y_pred_enet.coef_[0]:\n",
      "    word_vals.loc[x.columns.values[counter]] = i\n",
      "    counter += 1\n",
      "\n",
      "  predicted_vals = y_pred_enet.predict(x)\n",
      "  predicted_df = pd.DataFrame(columns = ['comment','predicted'])\n",
      "  predicted_df.set_index(['comment'], inplace = True)\n",
      "  counter = 0\n",
      "  for i in y.index.values:\n",
      "    predicted_df.loc[i, 'predicted'] = predicted_vals[counter][0]\n",
      "    counter += 1\n",
      "\n",
      "  return word_vals, predicted_df"
     ],
     "language": "python",
     "metadata": {},
     "outputs": [],
     "prompt_number": 4
    },
    {
     "cell_type": "code",
     "collapsed": false,
     "input": [
      "def predict_true_table(y, predicted_df):\n",
      "  predict_true_vals = pd.DataFrame(columns = ['predicted', 'true'])\n",
      "  for i in y.index.values:\n",
      "    predict_true_vals.loc[i] = [predicted_df.loc[i, 'predicted'], y.loc[i, \"rating\"]]\n",
      "\n",
      "  return predict_true_vals"
     ],
     "language": "python",
     "metadata": {},
     "outputs": [],
     "prompt_number": 5
    },
    {
     "cell_type": "code",
     "collapsed": false,
     "input": [
      "def consistency(predict_true_vals, words_comments, word_vals):\n",
      "  consistent_neg_comments = pd.DataFrame(columns = ['words'])\n",
      "  inconsistent_comments = pd.DataFrame(columns = ['predicted', 'true'])\n",
      "  for i in predict_true_vals.index.values:\n",
      "    if (predict_true_vals.loc[i, 'true'] < 3) and (abs(predict_true_vals.loc[i, 'predicted'] - predict_true_vals.loc[i, 'true']) < 0.5):\n",
      "      neg_words = []\n",
      "      for word in words_comments.loc[i, 'words']:\n",
      "        if word_vals.loc[word, 'coeff'] < 0:\n",
      "          neg_words.append(word)\n",
      "      consistent_neg_comments.loc[i, 'words'] = neg_words\n",
      "    elif (abs(predict_true_vals.loc[i, 'predicted'] - predict_true_vals.loc[i, 'true']) >= 3):\n",
      "      inconsistent_comments.loc[i] = [predict_true_vals.loc[i, 'predicted'], predict_true_vals.loc[i, 'true']]\n",
      "\n",
      "  return consistent_neg_comments, inconsistent_comments"
     ],
     "language": "python",
     "metadata": {},
     "outputs": [],
     "prompt_number": 118
    },
    {
     "cell_type": "code",
     "collapsed": false,
     "input": [
      "### Main ###\n",
      "\n",
      "# Configurations\n",
      "x_path = '/Users/Jackson/dev/science/health-apps/regression_matrices/words_comments.csv'\n",
      "y_path = '/Users/Jackson/dev/science/health-apps/regression_matrices/comments_ratings.csv'\n",
      "words_comments_path = '/Users/Jackson/dev/science/health-apps/regression_matrices/words_per_comment.csv'\n",
      "app_comments_path = '/Users/Jackson/dev/science/health-apps/comments/*.json'"
     ],
     "language": "python",
     "metadata": {},
     "outputs": [],
     "prompt_number": 103
    },
    {
     "cell_type": "code",
     "collapsed": false,
     "input": [
      "x, y, words_per_comment, app_comments = load_data(x_path, y_path, words_comments_path, app_comments_path)\n",
      "word_vals, comments_prediction = regression(x, y)\n",
      "predict_true_vals = predict_true_table(y, comments_prediction)"
     ],
     "language": "python",
     "metadata": {},
     "outputs": [],
     "prompt_number": 113
    },
    {
     "cell_type": "code",
     "collapsed": false,
     "input": [
      "consistent_neg_comments, inconsistent_comments = consistency(predict_true_vals, words_per_comment, word_vals)"
     ],
     "language": "python",
     "metadata": {},
     "outputs": [],
     "prompt_number": 119
    },
    {
     "cell_type": "code",
     "collapsed": false,
     "input": [
      "#pd.set_option('display.max_rows', 50)\n",
      "#word_vals.sort(['coeff'], ascending=False)\n",
      "#word_vals.loc['best']\n",
      "combined = pd.DataFrame(columns = ['package', 'verc', 'blank', 'words'])\n",
      "combined.set_index(['package', 'verc'], inplace = True)\n",
      "for i in consistent_neg_comments.index.values:\n",
      "    inIndex = False\n",
      "    if len(combined.index.values) > 0:\n",
      "        for s in combined.index.values:\n",
      "            if (str(app_comments.loc[i, 'package']), str(int(app_comments.loc[i, 'version_code']))) == s:\n",
      "                inIndex = True\n",
      "                break\n",
      "    \n",
      "    if inIndex == True:\n",
      "        prev = combined.loc[(str(app_comments.loc[i, 'package']), str(int(app_comments.loc[i, 'version_code']))), \"words\"]\n",
      "        combined.loc[(str(app_comments.loc[i, 'package']), str(int(app_comments.loc[i, 'version_code']))), \"words\"] = prev + ' ' + ' '.join(consistent_neg_comments.loc[i, 'words'])\n",
      "    else:\n",
      "        combined.loc[(str(app_comments.loc[i, 'package']), str(int(app_comments.loc[i, 'version_code']))), 'words'] = ' '.join(consistent_neg_comments.loc[i, 'words'])\n",
      "\n",
      "# to_print = pd.DataFrame(columns = ['package', 'verc', 'words'])\n",
      "# for i in range(len(combined.index.get_values())):\n",
      "#     to_print.loc[i, 'package'] = combined.index.get_values()[i][0]\n",
      "#     to_print.loc[i, 'verc'] = combined.index.get_values()[i][1]\n",
      "#     to_print.loc[i, 'words'] = combined.loc[(combined.index.get_values()[i][0], combined.index.get_values()[i][1]), 'words']\n",
      "# to_print.to_csv?\n",
      "word_vals.loc['samsung']"
     ],
     "language": "python",
     "metadata": {},
     "outputs": [
      {
       "metadata": {},
       "output_type": "pyout",
       "prompt_number": 235,
       "text": [
        "coeff   -0.01160338\n",
        "Name: samsung, dtype: object"
       ]
      }
     ],
     "prompt_number": 235
    },
    {
     "cell_type": "code",
     "collapsed": false,
     "input": [
      "('com.endomondo.android', '120') == ('com.endomondo.android', '121')"
     ],
     "language": "python",
     "metadata": {},
     "outputs": [
      {
       "metadata": {},
       "output_type": "pyout",
       "prompt_number": 177,
       "text": [
        "False"
       ]
      }
     ],
     "prompt_number": 177
    },
    {
     "cell_type": "code",
     "collapsed": false,
     "input": [
      "diff = pd.DataFrame(columns = ['comment', 'diff'])\n",
      "diff.set_index(['comment'], inplace=True)\n",
      "sum = 0\n",
      "counter = 0\n",
      "for i in predict_true_vals.index.values:\n",
      "    diff.loc[i, 'diff'] = (predict_true_vals.loc[i, \"predicted\"] - predict_true_vals.loc[i, \"true\"])\n",
      "    sum += abs((predict_true_vals.loc[i, \"predicted\"] - predict_true_vals.loc[i, \"true\"]))\n",
      "    counter += 1\n",
      "avg = sum/counter\n",
      "print \"standard deviation: \" + str(diff.std())\n",
      "print \"avg: \" + str(avg)"
     ],
     "language": "python",
     "metadata": {},
     "outputs": [
      {
       "output_type": "stream",
       "stream": "stdout",
       "text": [
        "standard deviation: diff    0.064626\n",
        "dtype: float64\n",
        "avg: 0.0206842216067\n"
       ]
      }
     ],
     "prompt_number": 139
    },
    {
     "cell_type": "code",
     "collapsed": false,
     "input": [
      "words_per_comment.loc[3, 'words']"
     ],
     "language": "python",
     "metadata": {},
     "outputs": [
      {
       "metadata": {},
       "output_type": "pyout",
       "prompt_number": 97,
       "text": [
        "['never', 'expected', 'such', 'thing', 'what', 'you', 'guys', 'are', 'doing']"
       ]
      }
     ],
     "prompt_number": 97
    },
    {
     "cell_type": "code",
     "collapsed": false,
     "input": [
      "app_comments.loc[387, 'reviews']['cmt']"
     ],
     "language": "python",
     "metadata": {},
     "outputs": [
      {
       "metadata": {},
       "output_type": "pyout",
       "prompt_number": 67,
       "text": [
        "u\"I.had to enter all my steps manually. It didn\\\\'t track a single one on its own. HTC one m8\""
       ]
      }
     ],
     "prompt_number": 67
    },
    {
     "cell_type": "code",
     "collapsed": false,
     "input": [
      "word_vals.loc['running', 'coeff']"
     ],
     "language": "python",
     "metadata": {},
     "outputs": [
      {
       "metadata": {},
       "output_type": "pyout",
       "prompt_number": 59,
       "text": [
        "-0.00044555894675583316"
       ]
      }
     ],
     "prompt_number": 59
    },
    {
     "cell_type": "code",
     "collapsed": false,
     "input": [],
     "language": "python",
     "metadata": {},
     "outputs": []
    }
   ],
   "metadata": {}
  }
 ]
}