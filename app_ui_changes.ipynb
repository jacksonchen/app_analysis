{
 "metadata": {
  "name": "",
  "signature": "sha256:0cabb810c4606e6bd58b0cd66fab6600231e4b691e14124c5f18f9ae19366cee"
 },
 "nbformat": 3,
 "nbformat_minor": 0,
 "worksheets": [
  {
   "cells": [
    {
     "cell_type": "code",
     "collapsed": false,
     "input": [
      "import pandas as pd\n",
      "import matplotlib\n",
      "import re\n",
      "from IPython.display import HTML"
     ],
     "language": "python",
     "metadata": {},
     "outputs": [],
     "prompt_number": 1
    },
    {
     "cell_type": "code",
     "collapsed": false,
     "input": [
      "app_screen_size_dump = pd.read_csv('/Users/Jackson/dev/science/health-apps/')\n",
      "# app_screen_size_dump.columns = ['package', 'verc', 'num_sizes', 'small', 'normal', 'large', 'xlarge']\n",
      "# app_screen_size_dump.sort(columns=['package', 'verc'], inplace=True)\n",
      "# app_screen_size_dump.set_index(['package','verc'], inplace=True)\n",
      "app_screen_size_dump"
     ],
     "language": "python",
     "metadata": {},
     "outputs": []
    }
   ],
   "metadata": {}
  }
 ]
}